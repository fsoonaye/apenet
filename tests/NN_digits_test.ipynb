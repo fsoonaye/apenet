{
 "cells": [
  {
   "cell_type": "markdown",
   "id": "8380dea2",
   "metadata": {},
   "source": [
    "# Digits Dataset Classification with apenet's Neural Network\n",
    "\n",
    "This notebook demonstrates how to build, train, and evaluate a neural network model using the apenet library, using the Digits Dataset as an example."
   ]
  },
  {
   "cell_type": "markdown",
   "id": "b3bf7d97",
   "metadata": {},
   "source": [
    "## Import Libraries"
   ]
  },
  {
   "cell_type": "code",
   "execution_count": 31,
   "id": "b1c33103",
   "metadata": {},
   "outputs": [],
   "source": [
    "import numpy as np\n",
    "## Data processing\n",
    "from sklearn.datasets import load_digits\n",
    "from sklearn.preprocessing import StandardScaler\n",
    "## Data visualization\n",
    "import matplotlib.pyplot as plt\n",
    "\n",
    "# Import our library\n",
    "import os\n",
    "os.chdir('..')\n",
    "from apenet.nn.models.mlp import MLP\n",
    "from apenet.utils.data import train_test_split, standardize\n",
    "from apenet.nn.loss.losses import CrossEntropyLoss\n",
    "from apenet.nn.optimizers.optimizers import SGD\n",
    "from apenet.eye.visuals import plot_history\n"
   ]
  },
  {
   "cell_type": "markdown",
   "id": "5e521f66",
   "metadata": {},
   "source": [
    "## Set Random Generator"
   ]
  },
  {
   "cell_type": "code",
   "execution_count": 32,
   "id": "61a170c3",
   "metadata": {},
   "outputs": [],
   "source": [
    "seed = 42\n",
    "rng = np.random.default_rng(seed=seed)"
   ]
  },
  {
   "cell_type": "markdown",
   "id": "02f879ac",
   "metadata": {},
   "source": [
    "# Data Overview"
   ]
  },
  {
   "cell_type": "markdown",
   "id": "b71f26d1",
   "metadata": {},
   "source": [
    "## Load and Preprocess Data\n"
   ]
  },
  {
   "cell_type": "code",
   "execution_count": 33,
   "id": "750a1ba2",
   "metadata": {},
   "outputs": [],
   "source": [
    "# Load and preprocess data\n",
    "dataset = load_digits()\n",
    "X = dataset.data\n",
    "y = dataset.target"
   ]
  },
  {
   "cell_type": "markdown",
   "id": "8f5f1254",
   "metadata": {},
   "source": [
    "## Data Visualization"
   ]
  },
  {
   "cell_type": "code",
   "execution_count": 34,
   "id": "5c50a64b",
   "metadata": {},
   "outputs": [
    {
     "data": {
      "image/png": "[encoded data removed]",
      "text/plain": [
       "<Figure size 1000x300 with 10 Axes>"
      ]
     },
     "metadata": {},
     "output_type": "display_data"
    }
   ],
   "source": [
    "# Visualize some examples from the dataset\n",
    "fig, axes = plt.subplots(1, 10, figsize=(10, 3))\n",
    "for i, ax in enumerate(axes):\n",
    "    ax.imshow(dataset.images[i], cmap='gray')\n",
    "    ax.set_title(dataset.target[i])\n",
    "    ax.axis('off')\n",
    "plt.show()"
   ]
  },
  {
   "cell_type": "markdown",
   "id": "8810b0fe",
   "metadata": {},
   "source": [
    "## Data Preprocessing\n"
   ]
  },
  {
   "cell_type": "code",
   "execution_count": null,
   "id": "08d40db4",
   "metadata": {},
   "outputs": [
    {
     "name": "stdout",
     "output_type": "stream",
     "text": [
      "Training dataset size: (1438, 64)\n",
      "Test dataset size: (359, 64)\n"
     ]
    }
   ],
   "source": [
    "# Standardize features\n",
    "X = standardize(X)\n",
    "\n",
    "X_train, X_test, y_train, y_test = train_test_split(X, y, test_size=0.2, rng=rng)\n",
    "\n",
    "# Print the sizes of the training and test datasets\n",
    "print(f\"Training dataset size: {X_train.shape}\")\n",
    "print(f\"Test dataset size: {X_test.shape}\")"
   ]
  },
  {
   "cell_type": "markdown",
   "id": "d1763a5c",
   "metadata": {},
   "source": [
    "# Model Overview"
   ]
  },
  {
   "cell_type": "markdown",
   "id": "52c9ab37",
   "metadata": {},
   "source": [
    "## Create Model\n"
   ]
  },
  {
   "cell_type": "code",
   "execution_count": null,
   "id": "298e7e0e",
   "metadata": {},
   "outputs": [],
   "source": [
    "model = MLP(\n",
    "    input_size=X_train.shape[1],\n",
    "    hidden_sizes=[64, 32],\n",
    "    output_size=10,\n",
    "    hidden_activation='tanh',\n",
    "    output_activation=None,\n",
    "    initializer='Xavier',\n",
    "    rng=rng\n",
    ")\n",
    "# Architecture hyperparameters\n",
    "input_size = X_train.shape[1]\n",
    "num_classes = len(np.unique(y_train))\n",
    "hidden_sizes = [64, 32]\n",
    "\n",
    "model = MLP(\n",
    "    input_size=input_size,\n",
    "    output_size=num_classes,\n",
    "    hidden_sizes=hidden_sizes,\n",
    "    initializer='Xavier',\n",
    "    hidden_activation='tanh',\n",
    "    output_activation=None,\n",
    "    rng=rng\n",
    ")\n",
    "\n",
    "# Training hyperparameters\n",
    "learning_rate = 0.01\n",
    "epochs = 100\n",
    "batch_size = 16"
   ]
  },
  {
   "cell_type": "markdown",
   "id": "77101e56",
   "metadata": {},
   "source": [
    "## Define Loss Function and Optimizer\n"
   ]
  },
  {
   "cell_type": "code",
   "execution_count": null,
   "id": "65e10171",
   "metadata": {},
   "outputs": [],
   "source": [
    "loss_fn = CrossEntropyLoss()\n",
    "optimizer = SGD(model.get_parameters(), learning_rate=learning_rate)"
   ]
  },
  {
   "cell_type": "markdown",
   "id": "47c64d03",
   "metadata": {},
   "source": [
    "## Train Model\n"
   ]
  },
  {
   "cell_type": "code",
   "execution_count": null,
   "id": "6797fee2",
   "metadata": {},
   "outputs": [
    {
     "name": "stdout",
     "output_type": "stream",
     "text": [
      "Epoch 1/50: train_loss=2.2306, train_acc=0.2420, val_loss=1.7563, val_acc=0.4596\n",
      "Epoch 10/50: train_loss=0.4444, train_acc=0.9395, val_loss=0.4618, val_acc=0.9053\n",
      "Epoch 20/50: train_loss=0.2294, train_acc=0.9680, val_loss=0.2926, val_acc=0.9248\n",
      "Epoch 30/50: train_loss=0.1524, train_acc=0.9826, val_loss=0.2373, val_acc=0.9415\n",
      "Epoch 40/50: train_loss=0.1128, train_acc=0.9896, val_loss=0.2094, val_acc=0.9499\n",
      "Epoch 50/50: train_loss=0.0886, train_acc=0.9924, val_loss=0.1933, val_acc=0.9526\n"
     ]
    }
   ],
   "source": [
    "# Train model\n",
    "history = model.fit(\n",
    "    loss_fn=loss_fn,\n",
    "    optimizer=optimizer,\n",
    "    epochs=epochs,\n",
    "    batch_size=batch_size,\n",
    "    verbose=10,\n",
    "    X_train=X_train, y_train=y_train, X_val=X_test, y_val=y_test\n",
    ")"
   ]
  },
  {
   "cell_type": "markdown",
   "id": "81ba6084",
   "metadata": {},
   "source": [
    "## Evaluate Model\n"
   ]
  },
  {
   "cell_type": "code",
   "execution_count": 39,
   "id": "0e8d3b59",
   "metadata": {},
   "outputs": [
    {
     "name": "stdout",
     "output_type": "stream",
     "text": [
      "Test Loss: 0.1933, Test Accuracy: 0.9526\n"
     ]
    }
   ],
   "source": [
    "test_loss, test_acc = model.evaluate(X_test, y_test, loss_fn=loss_fn)\n",
    "print(f\"Test Loss: {test_loss:.4f}, Test Accuracy: {test_acc:.4f}\")"
   ]
  },
  {
   "cell_type": "markdown",
   "id": "c11c8298",
   "metadata": {},
   "source": [
    "## Plot Training History\n"
   ]
  },
  {
   "cell_type": "code",
   "execution_count": 40,
   "id": "f625aeef",
   "metadata": {},
   "outputs": [
    {
     "data": {
      "image/png": "[encoded data removed]",
      "text/plain": [
       "<Figure size 1200x400 with 2 Axes>"
      ]
     },
     "metadata": {},
     "output_type": "display_data"
    }
   ],
   "source": [
    "plot_history(history)"
   ]
  }
 ],
 "metadata": {
  "kernelspec": {
   "display_name": ".venv",
   "language": "python",
   "name": "python3"
  },
  "language_info": {
   "codemirror_mode": {
    "name": "ipython",
    "version": 3
   },
   "file_extension": ".py",
   "mimetype": "text/x-python",
   "name": "python",
   "nbconvert_exporter": "python",
   "pygments_lexer": "ipython3",
   "version": "3.13.2"
  }
 },
 "nbformat": 4,
 "nbformat_minor": 5
}
