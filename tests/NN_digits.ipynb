{
 "cells": [
  {
   "cell_type": "markdown",
   "id": "8380dea2",
   "metadata": {},
   "source": [
    "# Digits Dataset Classification with apenet's Neural Network\n",
    "\n",
    "This notebook demonstrates how to build, train, and evaluate a neural network model using the apenet library, using the Digits Dataset as an example."
   ]
  },
  {
   "cell_type": "markdown",
   "id": "b3bf7d97",
   "metadata": {},
   "source": [
    "## Import Libraries"
   ]
  },
  {
   "cell_type": "code",
   "execution_count": 1,
   "id": "b1c33103",
   "metadata": {},
   "outputs": [],
   "source": [
    "import numpy as np\n",
    "## Data processing\n",
    "from sklearn.datasets import load_digits\n",
    "## Data visualization\n",
    "import matplotlib.pyplot as plt\n",
    "\n",
    "# Import our library\n",
    "import os\n",
    "os.chdir('..')\n",
    "from apenet.nn.models.mlp import MLP\n",
    "from apenet.utils.data import train_test_split, standardize\n",
    "from apenet.nn.loss import CrossEntropyLoss\n",
    "from apenet.nn.optim import SGD\n",
    "from apenet.eye.history import plot_history\n"
   ]
  },
  {
   "cell_type": "markdown",
   "id": "5e521f66",
   "metadata": {},
   "source": [
    "## Set Random Generator"
   ]
  },
  {
   "cell_type": "code",
   "execution_count": 2,
   "id": "61a170c3",
   "metadata": {},
   "outputs": [],
   "source": [
    "seed = 42\n",
    "rng = np.random.default_rng(seed=seed)"
   ]
  },
  {
   "cell_type": "markdown",
   "id": "02f879ac",
   "metadata": {},
   "source": [
    "# Data Overview"
   ]
  },
  {
   "cell_type": "markdown",
   "id": "b71f26d1",
   "metadata": {},
   "source": [
    "## Load and Preprocess Data\n"
   ]
  },
  {
   "cell_type": "code",
   "execution_count": 3,
   "id": "750a1ba2",
   "metadata": {},
   "outputs": [],
   "source": [
    "dataset = load_digits()\n",
    "X = dataset.data\n",
    "y = dataset.target"
   ]
  },
  {
   "cell_type": "markdown",
   "id": "8f5f1254",
   "metadata": {},
   "source": [
    "## Data Visualization"
   ]
  },
  {
   "cell_type": "code",
   "execution_count": 4,
   "id": "5c50a64b",
   "metadata": {},
   "outputs": [
    {
     "data": {
      "image/png": "[encoded data removed]",
      "text/plain": [
       "<Figure size 1000x300 with 10 Axes>"
      ]
     },
     "metadata": {},
     "output_type": "display_data"
    }
   ],
   "source": [
    "# Visualize some examples from the dataset\n",
    "fig, axes = plt.subplots(1, 10, figsize=(10, 3))\n",
    "for i, ax in enumerate(axes):\n",
    "    ax.imshow(dataset.images[i], cmap='gray')\n",
    "    ax.set_title(dataset.target[i])\n",
    "    ax.axis('off')\n",
    "plt.show()"
   ]
  },
  {
   "cell_type": "markdown",
   "id": "8810b0fe",
   "metadata": {},
   "source": [
    "## Data Preprocessing\n"
   ]
  },
  {
   "cell_type": "code",
   "execution_count": 5,
   "id": "08d40db4",
   "metadata": {},
   "outputs": [
    {
     "name": "stdout",
     "output_type": "stream",
     "text": [
      "Training dataset size: (1438, 64)\n",
      "Test dataset size: (359, 64)\n"
     ]
    }
   ],
   "source": [
    "# Standardize features\n",
    "X = standardize(X)\n",
    "\n",
    "X_train, X_test, y_train, y_test = train_test_split(X, y, test_size=0.2, rng=rng)\n",
    "\n",
    "# Print the sizes of the training and test datasets\n",
    "print(f\"Training dataset size: {X_train.shape}\")\n",
    "print(f\"Test dataset size: {X_test.shape}\")"
   ]
  },
  {
   "cell_type": "markdown",
   "id": "d1763a5c",
   "metadata": {},
   "source": [
    "# Model Overview"
   ]
  },
  {
   "cell_type": "markdown",
   "id": "52c9ab37",
   "metadata": {},
   "source": [
    "## Create Model\n"
   ]
  },
  {
   "cell_type": "code",
   "execution_count": 6,
   "id": "298e7e0e",
   "metadata": {},
   "outputs": [],
   "source": [
    "model = MLP(\n",
    "    input_size=X_train.shape[1],\n",
    "    hidden_sizes=[64, 32],\n",
    "    output_size=10,\n",
    "    hidden_activation='tanh',\n",
    "    output_activation=None,\n",
    "    initializer='Xavier',\n",
    "    rng=rng\n",
    ")\n",
    "\n",
    "# Architecture hyperparameters\n",
    "input_size = X_train.shape[1]\n",
    "num_classes = len(np.unique(y_train))\n",
    "hidden_sizes = [32, 16]\n",
    "\n",
    "model = MLP(\n",
    "    input_size=input_size,\n",
    "    output_size=num_classes,\n",
    "    hidden_sizes=hidden_sizes,\n",
    "    initializer='He',\n",
    "    hidden_activation='tanh',\n",
    "    output_activation=None,\n",
    "    rng=rng\n",
    ")\n",
    "\n",
    "# Training hyperparameters\n",
    "learning_rate = 0.01\n",
    "epochs = 100\n",
    "batch_size = 16"
   ]
  },
  {
   "cell_type": "markdown",
   "id": "77101e56",
   "metadata": {},
   "source": [
    "## Define Loss Function and Optimizer\n"
   ]
  },
  {
   "cell_type": "code",
   "execution_count": 7,
   "id": "65e10171",
   "metadata": {},
   "outputs": [],
   "source": [
    "loss_fn = CrossEntropyLoss()\n",
    "optimizer = SGD(model.get_parameters(), learning_rate=learning_rate)"
   ]
  },
  {
   "cell_type": "markdown",
   "id": "47c64d03",
   "metadata": {},
   "source": [
    "## Train Model\n"
   ]
  },
  {
   "cell_type": "code",
   "execution_count": 8,
   "id": "6797fee2",
   "metadata": {},
   "outputs": [
    {
     "name": "stdout",
     "output_type": "stream",
     "text": [
      "Epoch 1/100: train_loss=2.1764, train_acc=0.2962, val_loss=1.9503, val_acc=0.4290\n",
      "Epoch 10/100: train_loss=0.8736, train_acc=0.8032, val_loss=0.8421, val_acc=0.8106\n",
      "Epoch 20/100: train_loss=0.4772, train_acc=0.9179, val_loss=0.4917, val_acc=0.9136\n"
     ]
    },
    {
     "name": "stderr",
     "output_type": "stream",
     "text": [
      "/Users/flsoorian/code/apenet/apenet/nn/layer.py:78: RuntimeWarning: divide by zero encountered in matmul\n",
      "  return x @ self.parameters['W'] + self.parameters['b']\n",
      "/Users/flsoorian/code/apenet/apenet/nn/layer.py:78: RuntimeWarning: overflow encountered in matmul\n",
      "  return x @ self.parameters['W'] + self.parameters['b']\n",
      "/Users/flsoorian/code/apenet/apenet/nn/layer.py:78: RuntimeWarning: invalid value encountered in matmul\n",
      "  return x @ self.parameters['W'] + self.parameters['b']\n",
      "/Users/flsoorian/code/apenet/apenet/nn/layer.py:96: RuntimeWarning: divide by zero encountered in matmul\n",
      "  self.gradients['dW'] = (A_prev.T @ dZ) / m\n",
      "/Users/flsoorian/code/apenet/apenet/nn/layer.py:96: RuntimeWarning: overflow encountered in matmul\n",
      "  self.gradients['dW'] = (A_prev.T @ dZ) / m\n",
      "/Users/flsoorian/code/apenet/apenet/nn/layer.py:96: RuntimeWarning: invalid value encountered in matmul\n",
      "  self.gradients['dW'] = (A_prev.T @ dZ) / m\n",
      "/Users/flsoorian/code/apenet/apenet/nn/layer.py:99: RuntimeWarning: divide by zero encountered in matmul\n",
      "  return dZ @ self.parameters['W'].T\n",
      "/Users/flsoorian/code/apenet/apenet/nn/layer.py:99: RuntimeWarning: overflow encountered in matmul\n",
      "  return dZ @ self.parameters['W'].T\n",
      "/Users/flsoorian/code/apenet/apenet/nn/layer.py:99: RuntimeWarning: invalid value encountered in matmul\n",
      "  return dZ @ self.parameters['W'].T\n"
     ]
    },
    {
     "name": "stdout",
     "output_type": "stream",
     "text": [
      "Epoch 30/100: train_loss=0.3076, train_acc=0.9576, val_loss=0.3478, val_acc=0.9304\n",
      "Epoch 40/100: train_loss=0.2194, train_acc=0.9736, val_loss=0.2781, val_acc=0.9471\n",
      "Epoch 50/100: train_loss=0.1673, train_acc=0.9819, val_loss=0.2382, val_acc=0.9499\n",
      "Epoch 60/100: train_loss=0.1338, train_acc=0.9854, val_loss=0.2133, val_acc=0.9554\n",
      "Epoch 70/100: train_loss=0.1105, train_acc=0.9889, val_loss=0.1959, val_acc=0.9582\n",
      "Epoch 80/100: train_loss=0.0933, train_acc=0.9924, val_loss=0.1833, val_acc=0.9610\n",
      "Epoch 90/100: train_loss=0.0801, train_acc=0.9937, val_loss=0.1738, val_acc=0.9610\n",
      "Epoch 100/100: train_loss=0.0697, train_acc=0.9958, val_loss=0.1665, val_acc=0.9610\n"
     ]
    }
   ],
   "source": [
    "history = model.fit(\n",
    "    loss_fn=loss_fn,\n",
    "    optimizer=optimizer,\n",
    "    epochs=epochs,\n",
    "    batch_size=batch_size,\n",
    "    verbose=10,\n",
    "    X_train=X_train, y_train=y_train, X_val=X_test, y_val=y_test\n",
    ")"
   ]
  },
  {
   "cell_type": "markdown",
   "id": "81ba6084",
   "metadata": {},
   "source": [
    "## Evaluate Model\n"
   ]
  },
  {
   "cell_type": "code",
   "execution_count": 9,
   "id": "0e8d3b59",
   "metadata": {},
   "outputs": [
    {
     "name": "stdout",
     "output_type": "stream",
     "text": [
      "Test Loss: 0.1665, Test Accuracy: 0.9610\n"
     ]
    }
   ],
   "source": [
    "test_loss, test_acc = model.evaluate(X_test, y_test, loss_fn=loss_fn)\n",
    "print(f\"Test Loss: {test_loss:.4f}, Test Accuracy: {test_acc:.4f}\")"
   ]
  },
  {
   "cell_type": "markdown",
   "id": "c11c8298",
   "metadata": {},
   "source": [
    "## Plot Training History\n"
   ]
  },
  {
   "cell_type": "code",
   "execution_count": 10,
   "id": "f625aeef",
   "metadata": {},
   "outputs": [
    {
     "data": {
      "image/png": "[encoded data removed]",
      "text/plain": [
       "<Figure size 1200x400 with 2 Axes>"
      ]
     },
     "metadata": {},
     "output_type": "display_data"
    }
   ],
   "source": [
    "plot_history(history)"
   ]
  }
 ],
 "metadata": {
  "kernelspec": {
   "display_name": ".venv",
   "language": "python",
   "name": "python3"
  },
  "language_info": {
   "codemirror_mode": {
    "name": "ipython",
    "version": 3
   },
   "file_extension": ".py",
   "mimetype": "text/x-python",
   "name": "python",
   "nbconvert_exporter": "python",
   "pygments_lexer": "ipython3",
   "version": "3.13.2"
  }
 },
 "nbformat": 4,
 "nbformat_minor": 5
}
