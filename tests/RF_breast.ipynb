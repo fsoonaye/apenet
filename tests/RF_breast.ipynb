{
 "cells": [
  {
   "cell_type": "markdown",
   "id": "663d7757",
   "metadata": {},
   "source": [
    "# Cancer Breast Dataset Classification with apenet's Random Forest\n",
    "\n",
    "This notebook demonstrates how to build, train, and evaluate a Random Forest model using the apenet library, using the Cancer Breast Dataset as an example.\n"
   ]
  },
  {
   "cell_type": "markdown",
   "id": "3d55b43c",
   "metadata": {},
   "source": [
    "## Import Libraries"
   ]
  },
  {
   "cell_type": "code",
   "execution_count": 1,
   "id": "3a4769f9",
   "metadata": {},
   "outputs": [],
   "source": [
    "import os\n",
    "os.chdir('..')\n",
    "\n",
    "import numpy as np\n",
    "\n",
    "# Data Loading\n",
    "from sklearn.datasets import load_breast_cancer\n",
    "\n",
    "# Data Visualization\n",
    "import matplotlib.pyplot as plt\n",
    "\n",
    "# Import our library\n",
    "from apenet.rf.tree import DecisionTreeClassifier\n",
    "from apenet.rf.forest import RandomForestClassifier\n",
    "from apenet.utils.data import train_test_split\n",
    "from apenet.utils.metrics import accuracy\n",
    "from apenet.eye.tree import plot_feature_importance"
   ]
  },
  {
   "cell_type": "markdown",
   "id": "0d2a36ef",
   "metadata": {},
   "source": [
    "## Set Random Generator"
   ]
  },
  {
   "cell_type": "code",
   "execution_count": 2,
   "id": "29911642",
   "metadata": {},
   "outputs": [],
   "source": [
    "rng = np.random.default_rng()"
   ]
  },
  {
   "cell_type": "markdown",
   "id": "0e58cbcf",
   "metadata": {},
   "source": [
    "## Load Data"
   ]
  },
  {
   "cell_type": "code",
   "execution_count": 3,
   "id": "1a3cd5dd",
   "metadata": {},
   "outputs": [],
   "source": [
    "cancer = load_breast_cancer()\n",
    "X = cancer.data\n",
    "y = cancer.target\n",
    "feature_names = cancer.feature_names\n",
    "class_names = cancer.target_names"
   ]
  },
  {
   "cell_type": "markdown",
   "id": "ced0d0bf",
   "metadata": {},
   "source": [
    "## Preprocess Data"
   ]
  },
  {
   "cell_type": "code",
   "execution_count": 4,
   "id": "85afe7aa",
   "metadata": {},
   "outputs": [],
   "source": [
    "# 2. Train/test split\n",
    "X_train, X_test, y_train, y_test = train_test_split(X, y, test_size=0.25, rng=rng)"
   ]
  },
  {
   "cell_type": "markdown",
   "id": "4ed093ce",
   "metadata": {},
   "source": [
    "## Train models"
   ]
  },
  {
   "cell_type": "code",
   "execution_count": 5,
   "id": "f8491a4a",
   "metadata": {},
   "outputs": [
    {
     "data": {
      "text/plain": [
       "<apenet.rf.forest.RandomForestClassifier at 0x11c331d30>"
      ]
     },
     "execution_count": 5,
     "metadata": {},
     "output_type": "execute_result"
    }
   ],
   "source": [
    "dt = DecisionTreeClassifier(max_depth=5)\n",
    "dt.fit(X_train, y_train)\n",
    "\n",
    "rf = RandomForestClassifier(n_trees=20, max_depth=20, rng=rng)\n",
    "rf.fit(X_train, y_train)"
   ]
  },
  {
   "cell_type": "markdown",
   "id": "6afd548e",
   "metadata": {},
   "source": [
    "## Predict and Evaluate"
   ]
  },
  {
   "cell_type": "code",
   "execution_count": 6,
   "id": "6f651988",
   "metadata": {},
   "outputs": [
    {
     "name": "stdout",
     "output_type": "stream",
     "text": [
      "Decision Tree Accuracy: 0.9366\n",
      "Random Forest Accuracy: 0.9789\n"
     ]
    }
   ],
   "source": [
    "# Make predictions\n",
    "dt_preds = dt.predict(X_test)\n",
    "rf_preds = rf.predict(X_test)\n",
    "\n",
    "# Print accuracy\n",
    "print(f\"Decision Tree Accuracy: {accuracy(y_test, dt_preds):.4f}\")\n",
    "print(f\"Random Forest Accuracy: {accuracy(y_test, rf_preds):.4f}\")"
   ]
  }
 ],
 "metadata": {
  "kernelspec": {
   "display_name": ".venv",
   "language": "python",
   "name": "python3"
  },
  "language_info": {
   "codemirror_mode": {
    "name": "ipython",
    "version": 3
   },
   "file_extension": ".py",
   "mimetype": "text/x-python",
   "name": "python",
   "nbconvert_exporter": "python",
   "pygments_lexer": "ipython3",
   "version": "3.13.2"
  }
 },
 "nbformat": 4,
 "nbformat_minor": 5
}
