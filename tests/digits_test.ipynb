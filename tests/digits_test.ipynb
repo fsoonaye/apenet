{
 "cells": [
  {
   "cell_type": "markdown",
   "id": "8380dea2",
   "metadata": {},
   "source": [
    "# Iris Dataset Classification with apenet's Neural Network\n",
    "\n",
    "This notebook demonstrates how to build, train, and evaluate a neural network model using the apenet library, using the Iris Dataset as an example."
   ]
  },
  {
   "cell_type": "markdown",
   "id": "b3bf7d97",
   "metadata": {},
   "source": [
    "## Import Libraries"
   ]
  },
  {
   "cell_type": "code",
   "execution_count": 82,
   "id": "b1c33103",
   "metadata": {},
   "outputs": [],
   "source": [
    "import torch\n",
    "## Data processing\n",
    "from sklearn.datasets import load_digits\n",
    "from sklearn.preprocessing import StandardScaler\n",
    "## Data visualization\n",
    "import matplotlib.pyplot as plt\n",
    "import seaborn as sns\n",
    "import pandas as pd\n",
    "\n",
    "# Import our library\n",
    "from apenet.models.builder import ModelBuilder\n",
    "from apenet.train.trainer import Trainer\n",
    "from apenet.utils.data import train_test_split\n",
    "from apenet.loss.losses import CrossEntropyLoss\n",
    "from apenet.optimizers.optimizers import StochGradDescent"
   ]
  },
  {
   "cell_type": "markdown",
   "id": "5e521f66",
   "metadata": {},
   "source": [
    "## Set device"
   ]
  },
  {
   "cell_type": "code",
   "execution_count": 83,
   "id": "61a170c3",
   "metadata": {},
   "outputs": [
    {
     "name": "stdout",
     "output_type": "stream",
     "text": [
      "Using device: cpu\n"
     ]
    }
   ],
   "source": [
    "device = \"mps\" if torch.backends.mps.is_available() else \"cpu\"\n",
    "device = \"cpu\"\n",
    "print(f\"Using device: {device}\")"
   ]
  },
  {
   "cell_type": "markdown",
   "id": "02f879ac",
   "metadata": {},
   "source": [
    "# Data Overview"
   ]
  },
  {
   "cell_type": "markdown",
   "id": "b71f26d1",
   "metadata": {},
   "source": [
    "## Load and Preprocess Data\n"
   ]
  },
  {
   "cell_type": "code",
   "execution_count": 84,
   "id": "750a1ba2",
   "metadata": {},
   "outputs": [],
   "source": [
    "# Load and preprocess data\n",
    "dataset = load_digits()\n",
    "X = torch.tensor(dataset.data, dtype=torch.float32, device=device)\n",
    "y = torch.tensor(dataset.target, dtype=torch.long, device=device)\n"
   ]
  },
  {
   "cell_type": "markdown",
   "id": "8f5f1254",
   "metadata": {},
   "source": [
    "## Data Visualization"
   ]
  },
  {
   "cell_type": "code",
   "execution_count": 85,
   "id": "5c50a64b",
   "metadata": {},
   "outputs": [
    {
     "data": {
      "image/png": "[encoded data removed]",
      "text/plain": [
       "<Figure size 1000x300 with 10 Axes>"
      ]
     },
     "metadata": {},
     "output_type": "display_data"
    }
   ],
   "source": [
    "# Visualize some examples from the dataset\n",
    "fig, axes = plt.subplots(1, 10, figsize=(10, 3))\n",
    "for i, ax in enumerate(axes):\n",
    "    ax.imshow(dataset.images[i], cmap='gray')\n",
    "    ax.set_title(dataset.target[i])\n",
    "    ax.axis('off')\n",
    "plt.show()"
   ]
  },
  {
   "cell_type": "markdown",
   "id": "8810b0fe",
   "metadata": {},
   "source": [
    "## Data Preprocessing\n"
   ]
  },
  {
   "cell_type": "code",
   "execution_count": 86,
   "id": "08d40db4",
   "metadata": {},
   "outputs": [
    {
     "name": "stdout",
     "output_type": "stream",
     "text": [
      "Training dataset size: torch.Size([1438, 64])\n",
      "Test dataset size: torch.Size([359, 64])\n"
     ]
    }
   ],
   "source": [
    "# Standardize features\n",
    "scaler = StandardScaler()\n",
    "X = torch.tensor(scaler.fit_transform(X.cpu().numpy()), dtype=torch.float32, device=device)\n",
    "\n",
    "X_train, X_test, y_train, y_test = train_test_split(X, y, test_size=0.2)\n",
    "\n",
    "# Print the sizes of the training and test datasets\n",
    "print(f\"Training dataset size: {X_train.shape}\")\n",
    "print(f\"Test dataset size: {X_test.shape}\")"
   ]
  },
  {
   "cell_type": "markdown",
   "id": "d1763a5c",
   "metadata": {},
   "source": [
    "# Model Overview"
   ]
  },
  {
   "cell_type": "markdown",
   "id": "52c9ab37",
   "metadata": {},
   "source": [
    "## Create Model\n"
   ]
  },
  {
   "cell_type": "code",
   "execution_count": 87,
   "id": "298e7e0e",
   "metadata": {},
   "outputs": [],
   "source": [
    "builder = ModelBuilder()\n",
    "model = builder.build_mlp(\n",
    "    input_size=X_train.shape[1],\n",
    "    hidden_sizes=[64, 32],\n",
    "    output_size=10,\n",
    "    hidden_activation='tanh',\n",
    "    output_activation=None,\n",
    "    initializer='Xavier'\n",
    ")\n"
   ]
  },
  {
   "cell_type": "markdown",
   "id": "77101e56",
   "metadata": {},
   "source": [
    "## Define Loss Function and Optimizer\n"
   ]
  },
  {
   "cell_type": "code",
   "execution_count": 88,
   "id": "65e10171",
   "metadata": {},
   "outputs": [],
   "source": [
    "loss_fn = CrossEntropyLoss()\n",
    "optimizer = StochGradDescent(model.get_parameters(), learning_rate=0.01)"
   ]
  },
  {
   "cell_type": "markdown",
   "id": "f12fb80e",
   "metadata": {},
   "source": [
    "## Create Trainer\n"
   ]
  },
  {
   "cell_type": "code",
   "execution_count": 89,
   "id": "56fb123e",
   "metadata": {},
   "outputs": [],
   "source": [
    "# Create trainer\n",
    "trainer = Trainer(model, loss_fn, optimizer)\n"
   ]
  },
  {
   "cell_type": "markdown",
   "id": "47c64d03",
   "metadata": {},
   "source": [
    "## Train Model\n"
   ]
  },
  {
   "cell_type": "code",
   "execution_count": 90,
   "id": "6797fee2",
   "metadata": {},
   "outputs": [
    {
     "name": "stdout",
     "output_type": "stream",
     "text": [
      "Epoch 10/500: train_loss=1.6658, train_accuracy=0.4736, val_loss=1.6746, val_accuracy=0.4847\n",
      "Epoch 20/500: train_loss=1.2364, train_accuracy=0.7302, val_loss=1.2667, val_accuracy=0.6852\n",
      "Epoch 30/500: train_loss=0.9806, train_accuracy=0.8241, val_loss=1.0184, val_accuracy=0.7911\n",
      "Epoch 40/500: train_loss=0.8130, train_accuracy=0.8644, val_loss=0.8534, val_accuracy=0.8273\n",
      "Epoch 50/500: train_loss=0.6956, train_accuracy=0.8853, val_loss=0.7364, val_accuracy=0.8524\n",
      "Epoch 60/500: train_loss=0.6087, train_accuracy=0.8978, val_loss=0.6489, val_accuracy=0.8802\n",
      "Epoch 70/500: train_loss=0.5414, train_accuracy=0.9089, val_loss=0.5805, val_accuracy=0.8914\n",
      "Epoch 80/500: train_loss=0.4875, train_accuracy=0.9207, val_loss=0.5255, val_accuracy=0.8942\n",
      "Epoch 90/500: train_loss=0.4434, train_accuracy=0.9284, val_loss=0.4802, val_accuracy=0.9081\n",
      "Epoch 100/500: train_loss=0.4066, train_accuracy=0.9332, val_loss=0.4423, val_accuracy=0.9164\n",
      "Epoch 110/500: train_loss=0.3754, train_accuracy=0.9395, val_loss=0.4102, val_accuracy=0.9276\n",
      "Epoch 120/500: train_loss=0.3488, train_accuracy=0.9416, val_loss=0.3827, val_accuracy=0.9387\n",
      "Epoch 130/500: train_loss=0.3257, train_accuracy=0.9444, val_loss=0.3590, val_accuracy=0.9471\n",
      "Epoch 140/500: train_loss=0.3056, train_accuracy=0.9485, val_loss=0.3384, val_accuracy=0.9499\n",
      "Epoch 150/500: train_loss=0.2879, train_accuracy=0.9520, val_loss=0.3203, val_accuracy=0.9499\n",
      "Epoch 160/500: train_loss=0.2722, train_accuracy=0.9534, val_loss=0.3042, val_accuracy=0.9554\n",
      "Epoch 170/500: train_loss=0.2581, train_accuracy=0.9548, val_loss=0.2900, val_accuracy=0.9554\n",
      "Epoch 180/500: train_loss=0.2456, train_accuracy=0.9576, val_loss=0.2773, val_accuracy=0.9554\n",
      "Epoch 190/500: train_loss=0.2342, train_accuracy=0.9611, val_loss=0.2658, val_accuracy=0.9554\n",
      "Epoch 200/500: train_loss=0.2239, train_accuracy=0.9624, val_loss=0.2555, val_accuracy=0.9554\n",
      "Epoch 210/500: train_loss=0.2144, train_accuracy=0.9652, val_loss=0.2461, val_accuracy=0.9582\n",
      "Epoch 220/500: train_loss=0.2058, train_accuracy=0.9659, val_loss=0.2376, val_accuracy=0.9582\n",
      "Epoch 230/500: train_loss=0.1979, train_accuracy=0.9659, val_loss=0.2298, val_accuracy=0.9610\n",
      "Epoch 240/500: train_loss=0.1906, train_accuracy=0.9687, val_loss=0.2226, val_accuracy=0.9610\n",
      "Epoch 250/500: train_loss=0.1838, train_accuracy=0.9715, val_loss=0.2160, val_accuracy=0.9610\n",
      "Epoch 260/500: train_loss=0.1775, train_accuracy=0.9736, val_loss=0.2099, val_accuracy=0.9638\n",
      "Epoch 270/500: train_loss=0.1717, train_accuracy=0.9743, val_loss=0.2042, val_accuracy=0.9666\n",
      "Epoch 280/500: train_loss=0.1662, train_accuracy=0.9757, val_loss=0.1989, val_accuracy=0.9694\n",
      "Epoch 290/500: train_loss=0.1610, train_accuracy=0.9777, val_loss=0.1940, val_accuracy=0.9694\n",
      "Epoch 300/500: train_loss=0.1562, train_accuracy=0.9777, val_loss=0.1894, val_accuracy=0.9694\n",
      "Epoch 310/500: train_loss=0.1517, train_accuracy=0.9798, val_loss=0.1851, val_accuracy=0.9694\n",
      "Epoch 320/500: train_loss=0.1474, train_accuracy=0.9798, val_loss=0.1811, val_accuracy=0.9694\n",
      "Epoch 330/500: train_loss=0.1434, train_accuracy=0.9812, val_loss=0.1773, val_accuracy=0.9721\n",
      "Epoch 340/500: train_loss=0.1395, train_accuracy=0.9812, val_loss=0.1737, val_accuracy=0.9721\n",
      "Epoch 350/500: train_loss=0.1359, train_accuracy=0.9819, val_loss=0.1703, val_accuracy=0.9721\n",
      "Epoch 360/500: train_loss=0.1324, train_accuracy=0.9826, val_loss=0.1671, val_accuracy=0.9721\n",
      "Epoch 370/500: train_loss=0.1291, train_accuracy=0.9826, val_loss=0.1641, val_accuracy=0.9777\n",
      "Epoch 380/500: train_loss=0.1260, train_accuracy=0.9840, val_loss=0.1612, val_accuracy=0.9777\n",
      "Epoch 390/500: train_loss=0.1230, train_accuracy=0.9840, val_loss=0.1584, val_accuracy=0.9777\n",
      "Epoch 400/500: train_loss=0.1201, train_accuracy=0.9847, val_loss=0.1558, val_accuracy=0.9777\n",
      "Epoch 410/500: train_loss=0.1174, train_accuracy=0.9854, val_loss=0.1533, val_accuracy=0.9777\n",
      "Epoch 420/500: train_loss=0.1148, train_accuracy=0.9875, val_loss=0.1509, val_accuracy=0.9777\n",
      "Epoch 430/500: train_loss=0.1123, train_accuracy=0.9889, val_loss=0.1487, val_accuracy=0.9777\n",
      "Epoch 440/500: train_loss=0.1099, train_accuracy=0.9889, val_loss=0.1465, val_accuracy=0.9777\n",
      "Epoch 450/500: train_loss=0.1076, train_accuracy=0.9889, val_loss=0.1445, val_accuracy=0.9777\n",
      "Epoch 460/500: train_loss=0.1053, train_accuracy=0.9889, val_loss=0.1425, val_accuracy=0.9777\n",
      "Epoch 470/500: train_loss=0.1032, train_accuracy=0.9896, val_loss=0.1406, val_accuracy=0.9777\n",
      "Epoch 480/500: train_loss=0.1011, train_accuracy=0.9896, val_loss=0.1387, val_accuracy=0.9777\n",
      "Epoch 490/500: train_loss=0.0991, train_accuracy=0.9896, val_loss=0.1370, val_accuracy=0.9777\n",
      "Epoch 500/500: train_loss=0.0972, train_accuracy=0.9896, val_loss=0.1353, val_accuracy=0.9777\n"
     ]
    }
   ],
   "source": [
    "# Train model\n",
    "history = trainer.train(\n",
    "    epochs=500,\n",
    "    batch_size=16,\n",
    "    verbose=10,\n",
    "    X_train=X_train, y_train=y_train, X_val=X_test, y_val=y_test\n",
    ")\n"
   ]
  },
  {
   "cell_type": "markdown",
   "id": "81ba6084",
   "metadata": {},
   "source": [
    "## Evaluate Model\n"
   ]
  },
  {
   "cell_type": "code",
   "execution_count": 91,
   "id": "0e8d3b59",
   "metadata": {},
   "outputs": [
    {
     "name": "stdout",
     "output_type": "stream",
     "text": [
      "Test Loss: 0.1353, Test Accuracy: 0.9777\n"
     ]
    }
   ],
   "source": [
    "# Evaluate model\n",
    "metrics = trainer.evaluate(X_test, y_test)\n",
    "print(f\"Test Loss: {metrics['loss']:.4f}, Test Accuracy: {metrics['accuracy']:.4f}\")"
   ]
  },
  {
   "cell_type": "markdown",
   "id": "c11c8298",
   "metadata": {},
   "source": [
    "## Plot Training History\n"
   ]
  },
  {
   "cell_type": "code",
   "execution_count": 92,
   "id": "f625aeef",
   "metadata": {},
   "outputs": [
    {
     "data": {
      "image/png": "[encoded data removed]",
      "text/plain": [
       "<Figure size 1200x400 with 2 Axes>"
      ]
     },
     "metadata": {},
     "output_type": "display_data"
    }
   ],
   "source": [
    "# Plot training history\n",
    "plt.figure(figsize=(12, 4))\n",
    "plt.subplot(1, 2, 1)\n",
    "plt.plot(history['train_loss'], label='Train Loss')\n",
    "plt.plot(history['val_loss'], label='Validation Loss')\n",
    "plt.xlabel('Epoch')\n",
    "plt.ylabel('Loss')\n",
    "plt.title('Loss vs. Epoch')\n",
    "plt.legend()\n",
    "\n",
    "plt.subplot(1, 2, 2)\n",
    "plt.plot(history['train_accuracy'], label='Train Accuracy')\n",
    "plt.plot(history['val_accuracy'], label='Validation Accuracy')\n",
    "plt.xlabel('Epoch')\n",
    "plt.ylabel('Accuracy')\n",
    "plt.title('Accuracy vs. Epoch')\n",
    "plt.legend()\n",
    "\n",
    "plt.tight_layout()\n",
    "plt.show()\n"
   ]
  }
 ],
 "metadata": {
  "kernelspec": {
   "display_name": ".venv",
   "language": "python",
   "name": "python3"
  },
  "language_info": {
   "codemirror_mode": {
    "name": "ipython",
    "version": 3
   },
   "file_extension": ".py",
   "mimetype": "text/x-python",
   "name": "python",
   "nbconvert_exporter": "python",
   "pygments_lexer": "ipython3",
   "version": "3.13.2"
  }
 },
 "nbformat": 4,
 "nbformat_minor": 5
}
