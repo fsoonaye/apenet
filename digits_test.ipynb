{
 "cells": [
  {
   "cell_type": "markdown",
   "id": "8380dea2",
   "metadata": {},
   "source": [
    "# Iris Dataset Classification with apenet's Neural Network\n",
    "\n",
    "This notebook demonstrates how to build, train, and evaluate a neural network model using the apenet library, using the Iris Dataset as an example."
   ]
  },
  {
   "cell_type": "markdown",
   "id": "b3bf7d97",
   "metadata": {},
   "source": [
    "## Import Libraries"
   ]
  },
  {
   "cell_type": "code",
   "execution_count": 24,
   "id": "b1c33103",
   "metadata": {},
   "outputs": [],
   "source": [
    "import torch\n",
    "## Data processing\n",
    "from sklearn.datasets import load_digits\n",
    "from sklearn.preprocessing import StandardScaler\n",
    "## Data visualization\n",
    "import matplotlib.pyplot as plt\n",
    "import seaborn as sns\n",
    "import pandas as pd\n",
    "\n",
    "# Import our library\n",
    "from apenet.nn.models.builder import ModelBuilder\n",
    "from apenet.nn.train.trainer import Trainer\n",
    "from apenet.nn.utils.data import train_test_split\n",
    "from apenet.nn.loss.losses import CrossEntropyLoss\n",
    "from apenet.nn.optimizers.optimizers import StochGradDescent"
   ]
  },
  {
   "cell_type": "markdown",
   "id": "5e521f66",
   "metadata": {},
   "source": [
    "## Set device"
   ]
  },
  {
   "cell_type": "code",
   "execution_count": 25,
   "id": "61a170c3",
   "metadata": {},
   "outputs": [
    {
     "name": "stdout",
     "output_type": "stream",
     "text": [
      "Using device: cpu\n"
     ]
    }
   ],
   "source": [
    "device = \"mps\" if torch.backends.mps.is_available() else \"cpu\"\n",
    "device = \"cpu\"\n",
    "print(f\"Using device: {device}\")"
   ]
  },
  {
   "cell_type": "markdown",
   "id": "02f879ac",
   "metadata": {},
   "source": [
    "# Data Overview"
   ]
  },
  {
   "cell_type": "markdown",
   "id": "b71f26d1",
   "metadata": {},
   "source": [
    "## Load and Preprocess Data\n"
   ]
  },
  {
   "cell_type": "code",
   "execution_count": 26,
   "id": "750a1ba2",
   "metadata": {},
   "outputs": [],
   "source": [
    "# Load and preprocess data\n",
    "dataset = load_digits()\n",
    "X = torch.tensor(dataset.data, dtype=torch.float32, device=device)\n",
    "y = torch.tensor(dataset.target, dtype=torch.long, device=device)\n"
   ]
  },
  {
   "cell_type": "markdown",
   "id": "8f5f1254",
   "metadata": {},
   "source": [
    "## Data Visualization"
   ]
  },
  {
   "cell_type": "code",
   "execution_count": 27,
   "id": "5c50a64b",
   "metadata": {},
   "outputs": [
    {
     "data": {
      "image/png": "[encoded data removed]",
      "text/plain": [
       "<Figure size 1000x300 with 10 Axes>"
      ]
     },
     "metadata": {},
     "output_type": "display_data"
    }
   ],
   "source": [
    "# Visualize some examples from the dataset\n",
    "fig, axes = plt.subplots(1, 10, figsize=(10, 3))\n",
    "for i, ax in enumerate(axes):\n",
    "    ax.imshow(dataset.images[i], cmap='gray')\n",
    "    ax.set_title(dataset.target[i])\n",
    "    ax.axis('off')\n",
    "plt.show()"
   ]
  },
  {
   "cell_type": "markdown",
   "id": "8810b0fe",
   "metadata": {},
   "source": [
    "## Data Preprocessing\n"
   ]
  },
  {
   "cell_type": "code",
   "execution_count": 28,
   "id": "08d40db4",
   "metadata": {},
   "outputs": [
    {
     "name": "stdout",
     "output_type": "stream",
     "text": [
      "Training dataset size: torch.Size([1438, 64])\n",
      "Test dataset size: torch.Size([359, 64])\n"
     ]
    }
   ],
   "source": [
    "# Standardize features\n",
    "scaler = StandardScaler()\n",
    "X = torch.tensor(scaler.fit_transform(X.cpu().numpy()), dtype=torch.float32, device=device)\n",
    "\n",
    "X_train, X_test, y_train, y_test = train_test_split(X, y, test_size=0.2)\n",
    "\n",
    "# Print the sizes of the training and test datasets\n",
    "print(f\"Training dataset size: {X_train.shape}\")\n",
    "print(f\"Test dataset size: {X_test.shape}\")"
   ]
  },
  {
   "cell_type": "markdown",
   "id": "d1763a5c",
   "metadata": {},
   "source": [
    "# Model Overview"
   ]
  },
  {
   "cell_type": "markdown",
   "id": "52c9ab37",
   "metadata": {},
   "source": [
    "## Create Model\n"
   ]
  },
  {
   "cell_type": "code",
   "execution_count": 29,
   "id": "298e7e0e",
   "metadata": {},
   "outputs": [],
   "source": [
    "builder = ModelBuilder()\n",
    "model = builder.build_mlp(\n",
    "    input_size=X_train.shape[1],\n",
    "    hidden_sizes=[64, 32],\n",
    "    output_size=10,\n",
    "    hidden_activation='tanh',\n",
    "    output_activation=None,\n",
    "    initializer='Xavier'\n",
    ")\n"
   ]
  },
  {
   "cell_type": "markdown",
   "id": "77101e56",
   "metadata": {},
   "source": [
    "## Define Loss Function and Optimizer\n"
   ]
  },
  {
   "cell_type": "code",
   "execution_count": 30,
   "id": "65e10171",
   "metadata": {},
   "outputs": [],
   "source": [
    "loss_fn = CrossEntropyLoss()\n",
    "optimizer = StochGradDescent(model.get_parameters(), learning_rate=0.01)"
   ]
  },
  {
   "cell_type": "markdown",
   "id": "f12fb80e",
   "metadata": {},
   "source": [
    "## Create Trainer\n"
   ]
  },
  {
   "cell_type": "code",
   "execution_count": 31,
   "id": "56fb123e",
   "metadata": {},
   "outputs": [],
   "source": [
    "# Create trainer\n",
    "trainer = Trainer(model, loss_fn, optimizer)\n"
   ]
  },
  {
   "cell_type": "markdown",
   "id": "47c64d03",
   "metadata": {},
   "source": [
    "## Train Model\n"
   ]
  },
  {
   "cell_type": "code",
   "execution_count": 32,
   "id": "6797fee2",
   "metadata": {},
   "outputs": [
    {
     "name": "stdout",
     "output_type": "stream",
     "text": [
      "Epoch 1/50: train_loss=1.9968, train_accuracy=0.3275, val_loss=1.6047, val_accuracy=0.5905\n",
      "Epoch 11/50: train_loss=0.4295, train_accuracy=0.9249, val_loss=0.4322, val_accuracy=0.9136\n",
      "Epoch 21/50: train_loss=0.2446, train_accuracy=0.9645, val_loss=0.2721, val_accuracy=0.9443\n",
      "Epoch 31/50: train_loss=0.1677, train_accuracy=0.9784, val_loss=0.2098, val_accuracy=0.9471\n",
      "Epoch 41/50: train_loss=0.1260, train_accuracy=0.9861, val_loss=0.1765, val_accuracy=0.9499\n",
      "Epoch 50/50: train_loss=0.1020, train_accuracy=0.9889, val_loss=0.1579, val_accuracy=0.9526\n"
     ]
    }
   ],
   "source": [
    "# Train model\n",
    "history = trainer.train(\n",
    "    epochs=50,\n",
    "    batch_size=16,\n",
    "    verbose=10,\n",
    "    X_train=X_train, y_train=y_train, X_val=X_test, y_val=y_test\n",
    ")\n"
   ]
  },
  {
   "cell_type": "markdown",
   "id": "81ba6084",
   "metadata": {},
   "source": [
    "## Evaluate Model\n"
   ]
  },
  {
   "cell_type": "code",
   "execution_count": 33,
   "id": "0e8d3b59",
   "metadata": {},
   "outputs": [
    {
     "name": "stdout",
     "output_type": "stream",
     "text": [
      "Test Loss: 0.1579, Test Accuracy: 0.9526\n"
     ]
    }
   ],
   "source": [
    "# Evaluate model\n",
    "metrics = trainer.evaluate(X_test, y_test)\n",
    "print(f\"Test Loss: {metrics['loss']:.4f}, Test Accuracy: {metrics['accuracy']:.4f}\")"
   ]
  },
  {
   "cell_type": "markdown",
   "id": "c11c8298",
   "metadata": {},
   "source": [
    "## Plot Training History\n"
   ]
  },
  {
   "cell_type": "code",
   "execution_count": 34,
   "id": "f625aeef",
   "metadata": {},
   "outputs": [
    {
     "data": {
      "image/png": "[encoded data removed]",
      "text/plain": [
       "<Figure size 1200x400 with 2 Axes>"
      ]
     },
     "metadata": {},
     "output_type": "display_data"
    }
   ],
   "source": [
    "# Plot training history\n",
    "plt.figure(figsize=(12, 4))\n",
    "plt.subplot(1, 2, 1)\n",
    "plt.plot(history['train_loss'], label='Train Loss')\n",
    "plt.plot(history['val_loss'], label='Validation Loss')\n",
    "plt.xlabel('Epoch')\n",
    "plt.ylabel('Loss')\n",
    "plt.title('Loss vs. Epoch')\n",
    "plt.legend()\n",
    "\n",
    "plt.subplot(1, 2, 2)\n",
    "plt.plot(history['train_accuracy'], label='Train Accuracy')\n",
    "plt.plot(history['val_accuracy'], label='Validation Accuracy')\n",
    "plt.xlabel('Epoch')\n",
    "plt.ylabel('Accuracy')\n",
    "plt.title('Accuracy vs. Epoch')\n",
    "plt.legend()\n",
    "\n",
    "plt.tight_layout()\n",
    "plt.show()\n"
   ]
  }
 ],
 "metadata": {
  "kernelspec": {
   "display_name": ".venv",
   "language": "python",
   "name": "python3"
  },
  "language_info": {
   "codemirror_mode": {
    "name": "ipython",
    "version": 3
   },
   "file_extension": ".py",
   "mimetype": "text/x-python",
   "name": "python",
   "nbconvert_exporter": "python",
   "pygments_lexer": "ipython3",
   "version": "3.13.2"
  }
 },
 "nbformat": 4,
 "nbformat_minor": 5
}
