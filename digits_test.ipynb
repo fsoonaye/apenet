{
 "cells": [
  {
   "cell_type": "markdown",
   "id": "8380dea2",
   "metadata": {},
   "source": [
    "# Iris Dataset Classification with apenet's Neural Network\n",
    "\n",
    "This notebook demonstrates how to build, train, and evaluate a neural network model using the apenet library, using the Iris Dataset as an example."
   ]
  },
  {
   "cell_type": "markdown",
   "id": "b3bf7d97",
   "metadata": {},
   "source": [
    "## Import Libraries"
   ]
  },
  {
   "cell_type": "code",
   "execution_count": 2,
   "id": "b1c33103",
   "metadata": {},
   "outputs": [],
   "source": [
    "import torch\n",
    "## Data processing\n",
    "from sklearn.datasets import load_digits\n",
    "from sklearn.preprocessing import StandardScaler\n",
    "## Data visualization\n",
    "import matplotlib.pyplot as plt\n",
    "import seaborn as sns\n",
    "import pandas as pd\n",
    "\n",
    "# Import our library\n",
    "from apenet.nn.models.builder import ModelBuilder\n",
    "from apenet.nn.train.trainer import Trainer\n",
    "from apenet.nn.utils.data import train_test_split\n",
    "from apenet.nn.loss.losses import CrossEntropyLoss\n",
    "from apenet.nn.optimizers.optimizers import StochGradDescent"
   ]
  },
  {
   "cell_type": "markdown",
   "id": "5e521f66",
   "metadata": {},
   "source": [
    "## Set device"
   ]
  },
  {
   "cell_type": "code",
   "execution_count": 3,
   "id": "61a170c3",
   "metadata": {},
   "outputs": [
    {
     "name": "stdout",
     "output_type": "stream",
     "text": [
      "Using device: cpu\n"
     ]
    }
   ],
   "source": [
    "device = \"mps\" if torch.backends.mps.is_available() else \"cpu\"\n",
    "device = \"cpu\"\n",
    "print(f\"Using device: {device}\")"
   ]
  },
  {
   "cell_type": "markdown",
   "id": "02f879ac",
   "metadata": {},
   "source": [
    "# Data Overview"
   ]
  },
  {
   "cell_type": "markdown",
   "id": "b71f26d1",
   "metadata": {},
   "source": [
    "## Load and Preprocess Data\n"
   ]
  },
  {
   "cell_type": "code",
   "execution_count": 4,
   "id": "750a1ba2",
   "metadata": {},
   "outputs": [],
   "source": [
    "# Load and preprocess data\n",
    "dataset = load_digits()\n",
    "X = torch.tensor(dataset.data, dtype=torch.float32, device=device)\n",
    "y = torch.tensor(dataset.target, dtype=torch.long, device=device)\n"
   ]
  },
  {
   "cell_type": "markdown",
   "id": "8f5f1254",
   "metadata": {},
   "source": [
    "## Data Visualization"
   ]
  },
  {
   "cell_type": "code",
   "execution_count": 5,
   "id": "5c50a64b",
   "metadata": {},
   "outputs": [
    {
     "data": {
      "image/png": "[encoded data removed]",
      "text/plain": [
       "<Figure size 1000x300 with 10 Axes>"
      ]
     },
     "metadata": {},
     "output_type": "display_data"
    }
   ],
   "source": [
    "# Visualize some examples from the dataset\n",
    "fig, axes = plt.subplots(1, 10, figsize=(10, 3))\n",
    "for i, ax in enumerate(axes):\n",
    "    ax.imshow(dataset.images[i], cmap='gray')\n",
    "    ax.set_title(dataset.target[i])\n",
    "    ax.axis('off')\n",
    "plt.show()"
   ]
  },
  {
   "cell_type": "markdown",
   "id": "8810b0fe",
   "metadata": {},
   "source": [
    "## Data Preprocessing\n"
   ]
  },
  {
   "cell_type": "code",
   "execution_count": 6,
   "id": "08d40db4",
   "metadata": {},
   "outputs": [
    {
     "name": "stdout",
     "output_type": "stream",
     "text": [
      "Training dataset size: torch.Size([1438, 64])\n",
      "Test dataset size: torch.Size([359, 64])\n"
     ]
    }
   ],
   "source": [
    "# Standardize features\n",
    "scaler = StandardScaler()\n",
    "X = torch.tensor(scaler.fit_transform(X.cpu().numpy()), dtype=torch.float32, device=device)\n",
    "\n",
    "X_train, X_test, y_train, y_test = train_test_split(X, y, test_size=0.2)\n",
    "\n",
    "# Print the sizes of the training and test datasets\n",
    "print(f\"Training dataset size: {X_train.shape}\")\n",
    "print(f\"Test dataset size: {X_test.shape}\")"
   ]
  },
  {
   "cell_type": "markdown",
   "id": "d1763a5c",
   "metadata": {},
   "source": [
    "# Model Overview"
   ]
  },
  {
   "cell_type": "markdown",
   "id": "52c9ab37",
   "metadata": {},
   "source": [
    "## Create Model\n"
   ]
  },
  {
   "cell_type": "code",
   "execution_count": 7,
   "id": "298e7e0e",
   "metadata": {},
   "outputs": [],
   "source": [
    "builder = ModelBuilder()\n",
    "model = builder.build_mlp(\n",
    "    input_size=X_train.shape[1],\n",
    "    hidden_sizes=[64, 32],\n",
    "    output_size=10,\n",
    "    hidden_activation='tanh',\n",
    "    output_activation=None,\n",
    "    initializer='Xavier'\n",
    ")\n"
   ]
  },
  {
   "cell_type": "markdown",
   "id": "77101e56",
   "metadata": {},
   "source": [
    "## Define Loss Function and Optimizer\n"
   ]
  },
  {
   "cell_type": "code",
   "execution_count": 8,
   "id": "65e10171",
   "metadata": {},
   "outputs": [],
   "source": [
    "loss_fn = CrossEntropyLoss()\n",
    "optimizer = StochGradDescent(model.get_parameters(), learning_rate=0.01)"
   ]
  },
  {
   "cell_type": "markdown",
   "id": "f12fb80e",
   "metadata": {},
   "source": [
    "## Create Trainer\n"
   ]
  },
  {
   "cell_type": "code",
   "execution_count": 9,
   "id": "56fb123e",
   "metadata": {},
   "outputs": [],
   "source": [
    "# Create trainer\n",
    "trainer = Trainer(model, loss_fn, optimizer)\n"
   ]
  },
  {
   "cell_type": "markdown",
   "id": "47c64d03",
   "metadata": {},
   "source": [
    "## Train Model\n"
   ]
  },
  {
   "cell_type": "code",
   "execution_count": null,
   "id": "6797fee2",
   "metadata": {},
   "outputs": [
    {
     "name": "stdout",
     "output_type": "stream",
     "text": [
      "Epoch 1/500: train_loss=2.0922, train_accuracy=0.2364, val_loss=1.6552, val_accuracy=0.5070\n",
      "Epoch 11/500: train_loss=0.4012, train_accuracy=0.9353, val_loss=0.4588, val_accuracy=0.9081\n",
      "Epoch 21/500: train_loss=0.2251, train_accuracy=0.9590, val_loss=0.3197, val_accuracy=0.9220\n",
      "Epoch 31/500: train_loss=0.1551, train_accuracy=0.9798, val_loss=0.2637, val_accuracy=0.9415\n",
      "Epoch 41/500: train_loss=0.1170, train_accuracy=0.9833, val_loss=0.2329, val_accuracy=0.9471\n",
      "Epoch 51/500: train_loss=0.0928, train_accuracy=0.9882, val_loss=0.2130, val_accuracy=0.9471\n",
      "Epoch 61/500: train_loss=0.0762, train_accuracy=0.9924, val_loss=0.1991, val_accuracy=0.9499\n",
      "Epoch 71/500: train_loss=0.0640, train_accuracy=0.9958, val_loss=0.1889, val_accuracy=0.9499\n",
      "Epoch 81/500: train_loss=0.0547, train_accuracy=0.9972, val_loss=0.1812, val_accuracy=0.9526\n",
      "Epoch 91/500: train_loss=0.0475, train_accuracy=0.9986, val_loss=0.1752, val_accuracy=0.9526\n",
      "Epoch 101/500: train_loss=0.0419, train_accuracy=0.9986, val_loss=0.1701, val_accuracy=0.9526\n",
      "Epoch 111/500: train_loss=0.0372, train_accuracy=0.9986, val_loss=0.1662, val_accuracy=0.9554\n",
      "Epoch 121/500: train_loss=0.0334, train_accuracy=0.9993, val_loss=0.1630, val_accuracy=0.9582\n",
      "Epoch 131/500: train_loss=0.0302, train_accuracy=0.9993, val_loss=0.1602, val_accuracy=0.9582\n",
      "Epoch 141/500: train_loss=0.0274, train_accuracy=0.9993, val_loss=0.1580, val_accuracy=0.9582\n",
      "Epoch 151/500: train_loss=0.0251, train_accuracy=0.9993, val_loss=0.1560, val_accuracy=0.9582\n",
      "Epoch 161/500: train_loss=0.0231, train_accuracy=0.9993, val_loss=0.1544, val_accuracy=0.9582\n",
      "Epoch 171/500: train_loss=0.0213, train_accuracy=0.9993, val_loss=0.1529, val_accuracy=0.9582\n",
      "Epoch 181/500: train_loss=0.0198, train_accuracy=1.0000, val_loss=0.1517, val_accuracy=0.9582\n",
      "Epoch 191/500: train_loss=0.0185, train_accuracy=1.0000, val_loss=0.1506, val_accuracy=0.9582\n",
      "Epoch 201/500: train_loss=0.0173, train_accuracy=1.0000, val_loss=0.1496, val_accuracy=0.9582\n",
      "Epoch 211/500: train_loss=0.0162, train_accuracy=1.0000, val_loss=0.1489, val_accuracy=0.9582\n",
      "Epoch 221/500: train_loss=0.0153, train_accuracy=1.0000, val_loss=0.1483, val_accuracy=0.9582\n",
      "Epoch 231/500: train_loss=0.0144, train_accuracy=1.0000, val_loss=0.1477, val_accuracy=0.9582\n",
      "Epoch 241/500: train_loss=0.0136, train_accuracy=1.0000, val_loss=0.1471, val_accuracy=0.9582\n",
      "Epoch 251/500: train_loss=0.0129, train_accuracy=1.0000, val_loss=0.1466, val_accuracy=0.9582\n",
      "Epoch 261/500: train_loss=0.0123, train_accuracy=1.0000, val_loss=0.1461, val_accuracy=0.9582\n",
      "Epoch 271/500: train_loss=0.0117, train_accuracy=1.0000, val_loss=0.1458, val_accuracy=0.9582\n",
      "Epoch 281/500: train_loss=0.0112, train_accuracy=1.0000, val_loss=0.1455, val_accuracy=0.9582\n",
      "Epoch 291/500: train_loss=0.0107, train_accuracy=1.0000, val_loss=0.1452, val_accuracy=0.9582\n",
      "Epoch 301/500: train_loss=0.0102, train_accuracy=1.0000, val_loss=0.1450, val_accuracy=0.9582\n",
      "Epoch 311/500: train_loss=0.0098, train_accuracy=1.0000, val_loss=0.1448, val_accuracy=0.9582\n",
      "Epoch 321/500: train_loss=0.0094, train_accuracy=1.0000, val_loss=0.1445, val_accuracy=0.9582\n",
      "Epoch 331/500: train_loss=0.0090, train_accuracy=1.0000, val_loss=0.1443, val_accuracy=0.9582\n",
      "Epoch 341/500: train_loss=0.0087, train_accuracy=1.0000, val_loss=0.1442, val_accuracy=0.9610\n",
      "Epoch 351/500: train_loss=0.0084, train_accuracy=1.0000, val_loss=0.1441, val_accuracy=0.9610\n",
      "Epoch 361/500: train_loss=0.0081, train_accuracy=1.0000, val_loss=0.1439, val_accuracy=0.9610\n",
      "Epoch 371/500: train_loss=0.0078, train_accuracy=1.0000, val_loss=0.1439, val_accuracy=0.9610\n",
      "Epoch 381/500: train_loss=0.0075, train_accuracy=1.0000, val_loss=0.1438, val_accuracy=0.9610\n",
      "Epoch 391/500: train_loss=0.0073, train_accuracy=1.0000, val_loss=0.1437, val_accuracy=0.9610\n",
      "Epoch 401/500: train_loss=0.0071, train_accuracy=1.0000, val_loss=0.1437, val_accuracy=0.9610\n",
      "Epoch 411/500: train_loss=0.0068, train_accuracy=1.0000, val_loss=0.1437, val_accuracy=0.9610\n",
      "Epoch 421/500: train_loss=0.0066, train_accuracy=1.0000, val_loss=0.1436, val_accuracy=0.9610\n",
      "Epoch 431/500: train_loss=0.0064, train_accuracy=1.0000, val_loss=0.1436, val_accuracy=0.9610\n",
      "Epoch 441/500: train_loss=0.0063, train_accuracy=1.0000, val_loss=0.1435, val_accuracy=0.9610\n",
      "Epoch 451/500: train_loss=0.0061, train_accuracy=1.0000, val_loss=0.1435, val_accuracy=0.9610\n",
      "Epoch 461/500: train_loss=0.0059, train_accuracy=1.0000, val_loss=0.1435, val_accuracy=0.9610\n",
      "Epoch 471/500: train_loss=0.0058, train_accuracy=1.0000, val_loss=0.1435, val_accuracy=0.9610\n",
      "Epoch 481/500: train_loss=0.0056, train_accuracy=1.0000, val_loss=0.1435, val_accuracy=0.9610\n",
      "Epoch 491/500: train_loss=0.0055, train_accuracy=1.0000, val_loss=0.1435, val_accuracy=0.9610\n",
      "Epoch 500/500: train_loss=0.0053, train_accuracy=1.0000, val_loss=0.1435, val_accuracy=0.9610\n"
     ]
    }
   ],
   "source": [
    "# Train model\n",
    "history = trainer.train(\n",
    "    epochs=50,\n",
    "    batch_size=16,\n",
    "    verbose=10,\n",
    "    X_train=X_train, y_train=y_train, X_val=X_test, y_val=y_test\n",
    ")\n"
   ]
  },
  {
   "cell_type": "markdown",
   "id": "81ba6084",
   "metadata": {},
   "source": [
    "## Evaluate Model\n"
   ]
  },
  {
   "cell_type": "code",
   "execution_count": 11,
   "id": "0e8d3b59",
   "metadata": {},
   "outputs": [
    {
     "name": "stdout",
     "output_type": "stream",
     "text": [
      "Test Loss: 0.1435, Test Accuracy: 0.9610\n"
     ]
    }
   ],
   "source": [
    "# Evaluate model\n",
    "metrics = trainer.evaluate(X_test, y_test)\n",
    "print(f\"Test Loss: {metrics['loss']:.4f}, Test Accuracy: {metrics['accuracy']:.4f}\")"
   ]
  },
  {
   "cell_type": "markdown",
   "id": "c11c8298",
   "metadata": {},
   "source": [
    "## Plot Training History\n"
   ]
  },
  {
   "cell_type": "code",
   "execution_count": 12,
   "id": "f625aeef",
   "metadata": {},
   "outputs": [
    {
     "data": {
      "image/png": "[encoded data removed]",
      "text/plain": [
       "<Figure size 1200x400 with 2 Axes>"
      ]
     },
     "metadata": {},
     "output_type": "display_data"
    }
   ],
   "source": [
    "# Plot training history\n",
    "plt.figure(figsize=(12, 4))\n",
    "plt.subplot(1, 2, 1)\n",
    "plt.plot(history['train_loss'], label='Train Loss')\n",
    "plt.plot(history['val_loss'], label='Validation Loss')\n",
    "plt.xlabel('Epoch')\n",
    "plt.ylabel('Loss')\n",
    "plt.title('Loss vs. Epoch')\n",
    "plt.legend()\n",
    "\n",
    "plt.subplot(1, 2, 2)\n",
    "plt.plot(history['train_accuracy'], label='Train Accuracy')\n",
    "plt.plot(history['val_accuracy'], label='Validation Accuracy')\n",
    "plt.xlabel('Epoch')\n",
    "plt.ylabel('Accuracy')\n",
    "plt.title('Accuracy vs. Epoch')\n",
    "plt.legend()\n",
    "\n",
    "plt.tight_layout()\n",
    "plt.show()\n"
   ]
  }
 ],
 "metadata": {
  "kernelspec": {
   "display_name": ".venv",
   "language": "python",
   "name": "python3"
  },
  "language_info": {
   "codemirror_mode": {
    "name": "ipython",
    "version": 3
   },
   "file_extension": ".py",
   "mimetype": "text/x-python",
   "name": "python",
   "nbconvert_exporter": "python",
   "pygments_lexer": "ipython3",
   "version": "3.13.2"
  }
 },
 "nbformat": 4,
 "nbformat_minor": 5
}
